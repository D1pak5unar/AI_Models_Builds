{
 "cells": [
  {
   "cell_type": "markdown",
   "id": "12919a47-db1c-4587-b57d-99f5e4e7759e",
   "metadata": {},
   "source": [
    "# Network Anomaly Detection\n"
   ]
  },
  {
   "cell_type": "markdown",
   "id": "a72d0620-b047-4862-ae62-d355f72cc1b0",
   "metadata": {},
   "source": [
    "### Using Random forest (ensembles) of ML-algo that builds multiple decision trees and aggregates their predictions. \n"
   ]
  },
  {
   "cell_type": "code",
   "execution_count": null,
   "id": "66af4afe-628a-4e6d-8401-84c91bc35235",
   "metadata": {},
   "outputs": [],
   "source": []
  }
 ],
 "metadata": {
  "kernelspec": {
   "display_name": "Python 3 (ipykernel)",
   "language": "python",
   "name": "python3"
  },
  "language_info": {
   "codemirror_mode": {
    "name": "ipython",
    "version": 3
   },
   "file_extension": ".py",
   "mimetype": "text/x-python",
   "name": "python",
   "nbconvert_exporter": "python",
   "pygments_lexer": "ipython3",
   "version": "3.12.11"
  }
 },
 "nbformat": 4,
 "nbformat_minor": 5
}
